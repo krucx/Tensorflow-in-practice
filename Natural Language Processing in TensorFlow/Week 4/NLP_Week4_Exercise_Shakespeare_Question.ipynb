{
  "nbformat": 4,
  "nbformat_minor": 0,
  "metadata": {
    "accelerator": "GPU",
    "colab": {
      "name": "Copy of NLP_Week4_Exercise_Shakespeare_Question.ipynb",
      "provenance": [],
      "toc_visible": true
    },
    "kernelspec": {
      "display_name": "Python 3",
      "name": "python3"
    }
  },
  "cells": [
    {
      "cell_type": "code",
      "metadata": {
        "id": "zX4Kg8DUTKWO",
        "colab_type": "code",
        "colab": {}
      },
      "source": [
        "#@title Licensed under the Apache License, Version 2.0 (the \"License\");\n",
        "# you may not use this file except in compliance with the License.\n",
        "# You may obtain a copy of the License at\n",
        "#\n",
        "# https://www.apache.org/licenses/LICENSE-2.0\n",
        "#\n",
        "# Unless required by applicable law or agreed to in writing, software\n",
        "# distributed under the License is distributed on an \"AS IS\" BASIS,\n",
        "# WITHOUT WARRANTIES OR CONDITIONS OF ANY KIND, either express or implied.\n",
        "# See the License for the specific language governing permissions and\n",
        "# limitations under the License."
      ],
      "execution_count": null,
      "outputs": []
    },
    {
      "cell_type": "code",
      "metadata": {
        "colab_type": "code",
        "id": "BOwsuGQQY9OL",
        "colab": {}
      },
      "source": [
        "from tensorflow.keras.preprocessing.sequence import pad_sequences\n",
        "from tensorflow.keras.layers import Embedding, LSTM, Dense, Dropout, Bidirectional\n",
        "from tensorflow.keras.preprocessing.text import Tokenizer\n",
        "from tensorflow.keras.models import Sequential\n",
        "from tensorflow.keras.optimizers import Adam\n",
        "### YOUR CODE HERE\n",
        "# Figure out how to import regularizers\n",
        "from tensorflow.keras.regularizers import l1,l2\n",
        "###\n",
        "import tensorflow.keras.utils as ku \n",
        "import numpy as np "
      ],
      "execution_count": null,
      "outputs": []
    },
    {
      "cell_type": "code",
      "metadata": {
        "colab_type": "code",
        "id": "PRnDnCW-Z7qv",
        "colab": {
          "base_uri": "https://localhost:8080/",
          "height": 204
        },
        "outputId": "ac59158c-fa06-4c66-ee90-c823d67b9c4e"
      },
      "source": [
        "tokenizer = Tokenizer()\n",
        "!wget --no-check-certificate \\\n",
        "    https://storage.googleapis.com/laurencemoroney-blog.appspot.com/sonnets.txt \\\n",
        "    -O /tmp/sonnets.txt\n",
        "data = open('/tmp/sonnets.txt').read()\n",
        "\n",
        "corpus = data.lower().split(\"\\n\")\n",
        "\n",
        "\n",
        "tokenizer.fit_on_texts(corpus)\n",
        "total_words = len(tokenizer.word_index) + 1\n",
        "\n",
        "# create input sequences using list of tokens\n",
        "input_sequences = []\n",
        "for line in corpus:\n",
        "\ttoken_list = tokenizer.texts_to_sequences([line])[0]\n",
        "\tfor i in range(1, len(token_list)):\n",
        "\t\tn_gram_sequence = token_list[:i+1]\n",
        "\t\tinput_sequences.append(n_gram_sequence)\n",
        "\n",
        "\n",
        "# pad sequences \n",
        "max_sequence_len = max([len(x) for x in input_sequences])\n",
        "input_sequences = np.array(pad_sequences(input_sequences, maxlen=max_sequence_len, padding='pre'))\n",
        "\n",
        "# create predictors and label\n",
        "predictors, label = input_sequences[:,:-1],input_sequences[:,-1]\n",
        "\n",
        "label = ku.to_categorical(label, num_classes=total_words)"
      ],
      "execution_count": null,
      "outputs": [
        {
          "output_type": "stream",
          "text": [
            "--2020-06-24 22:03:25--  https://storage.googleapis.com/laurencemoroney-blog.appspot.com/sonnets.txt\n",
            "Resolving storage.googleapis.com (storage.googleapis.com)... 108.177.119.128, 2a00:1450:4013:c05::80\n",
            "Connecting to storage.googleapis.com (storage.googleapis.com)|108.177.119.128|:443... connected.\n",
            "HTTP request sent, awaiting response... 200 OK\n",
            "Length: 93578 (91K) [text/plain]\n",
            "Saving to: ‘/tmp/sonnets.txt’\n",
            "\n",
            "\r/tmp/sonnets.txt      0%[                    ]       0  --.-KB/s               \r/tmp/sonnets.txt    100%[===================>]  91.38K  --.-KB/s    in 0.001s  \n",
            "\n",
            "2020-06-24 22:03:25 (132 MB/s) - ‘/tmp/sonnets.txt’ saved [93578/93578]\n",
            "\n"
          ],
          "name": "stdout"
        }
      ]
    },
    {
      "cell_type": "code",
      "metadata": {
        "colab_type": "code",
        "id": "w9vH8Y59ajYL",
        "colab": {
          "base_uri": "https://localhost:8080/",
          "height": 374
        },
        "outputId": "9e4c241d-1202-4521-8afc-b98d790548a3"
      },
      "source": [
        "model = Sequential()\n",
        "model.add(Embedding(total_words,128,input_length=max_sequence_len-1))\n",
        "model.add(Bidirectional(LSTM(160,return_sequences=True)))\n",
        "model.add(Dropout(0.2))\n",
        "model.add(LSTM(128))\n",
        "model.add(Dense(1024,activation='relu',kernel_regularizer=l2(0.01),activity_regularizer=l2(0.01),bias_regularizer=l1(0.01)))\n",
        "model.add(Dense(total_words,activation='softmax'))\n",
        "# Pick an optimizer\n",
        "model.compile(optimizer='adam',loss='categorical_crossentropy',metrics=['accuracy'])\n",
        "print(model.summary())\n"
      ],
      "execution_count": null,
      "outputs": [
        {
          "output_type": "stream",
          "text": [
            "Model: \"sequential\"\n",
            "_________________________________________________________________\n",
            "Layer (type)                 Output Shape              Param #   \n",
            "=================================================================\n",
            "embedding (Embedding)        (None, 10, 128)           411008    \n",
            "_________________________________________________________________\n",
            "bidirectional (Bidirectional (None, 10, 320)           369920    \n",
            "_________________________________________________________________\n",
            "dropout (Dropout)            (None, 10, 320)           0         \n",
            "_________________________________________________________________\n",
            "lstm_1 (LSTM)                (None, 128)               229888    \n",
            "_________________________________________________________________\n",
            "dense (Dense)                (None, 1024)              132096    \n",
            "_________________________________________________________________\n",
            "dense_1 (Dense)              (None, 3211)              3291275   \n",
            "=================================================================\n",
            "Total params: 4,434,187\n",
            "Trainable params: 4,434,187\n",
            "Non-trainable params: 0\n",
            "_________________________________________________________________\n",
            "None\n"
          ],
          "name": "stdout"
        }
      ]
    },
    {
      "cell_type": "code",
      "metadata": {
        "colab_type": "code",
        "id": "AIg2f1HBxqof",
        "colab": {
          "base_uri": "https://localhost:8080/",
          "height": 1000
        },
        "outputId": "9a15443e-8cef-4c87-b2f7-9557ee18fbc9"
      },
      "source": [
        " history = model.fit(predictors, label, epochs=100, verbose=1)"
      ],
      "execution_count": null,
      "outputs": [
        {
          "output_type": "stream",
          "text": [
            "Epoch 1/100\n",
            "484/484 [==============================] - 6s 12ms/step - loss: 6.9790 - accuracy: 0.0221\n",
            "Epoch 2/100\n",
            "484/484 [==============================] - 6s 12ms/step - loss: 6.5175 - accuracy: 0.0228\n",
            "Epoch 3/100\n",
            "484/484 [==============================] - 6s 12ms/step - loss: 6.4289 - accuracy: 0.0232\n",
            "Epoch 4/100\n",
            "484/484 [==============================] - 6s 11ms/step - loss: 6.3291 - accuracy: 0.0316\n",
            "Epoch 5/100\n",
            "484/484 [==============================] - 6s 11ms/step - loss: 6.2167 - accuracy: 0.0359\n",
            "Epoch 6/100\n",
            "484/484 [==============================] - 5s 11ms/step - loss: 6.1158 - accuracy: 0.0400\n",
            "Epoch 7/100\n",
            "484/484 [==============================] - 5s 11ms/step - loss: 6.0245 - accuracy: 0.0429\n",
            "Epoch 8/100\n",
            "484/484 [==============================] - 5s 11ms/step - loss: 5.9299 - accuracy: 0.0481\n",
            "Epoch 9/100\n",
            "484/484 [==============================] - 5s 11ms/step - loss: 5.8246 - accuracy: 0.0556\n",
            "Epoch 10/100\n",
            "484/484 [==============================] - 6s 11ms/step - loss: 5.7161 - accuracy: 0.0626\n",
            "Epoch 11/100\n",
            "484/484 [==============================] - 5s 11ms/step - loss: 5.6082 - accuracy: 0.0695\n",
            "Epoch 12/100\n",
            "484/484 [==============================] - 6s 11ms/step - loss: 5.4969 - accuracy: 0.0787\n",
            "Epoch 13/100\n",
            "484/484 [==============================] - 6s 11ms/step - loss: 5.3887 - accuracy: 0.0843\n",
            "Epoch 14/100\n",
            "484/484 [==============================] - 5s 11ms/step - loss: 5.2734 - accuracy: 0.0929\n",
            "Epoch 15/100\n",
            "484/484 [==============================] - 6s 12ms/step - loss: 5.1686 - accuracy: 0.0978\n",
            "Epoch 16/100\n",
            "484/484 [==============================] - 6s 11ms/step - loss: 5.0527 - accuracy: 0.1093\n",
            "Epoch 17/100\n",
            "484/484 [==============================] - 6s 11ms/step - loss: 4.9388 - accuracy: 0.1173\n",
            "Epoch 18/100\n",
            "484/484 [==============================] - 6s 11ms/step - loss: 4.8310 - accuracy: 0.1279\n",
            "Epoch 19/100\n",
            "484/484 [==============================] - 5s 11ms/step - loss: 4.7202 - accuracy: 0.1378\n",
            "Epoch 20/100\n",
            "484/484 [==============================] - 5s 11ms/step - loss: 4.6127 - accuracy: 0.1507\n",
            "Epoch 21/100\n",
            "484/484 [==============================] - 5s 11ms/step - loss: 4.4995 - accuracy: 0.1658\n",
            "Epoch 22/100\n",
            "484/484 [==============================] - 5s 11ms/step - loss: 4.3863 - accuracy: 0.1788\n",
            "Epoch 23/100\n",
            "484/484 [==============================] - 6s 11ms/step - loss: 4.2799 - accuracy: 0.1956\n",
            "Epoch 24/100\n",
            "484/484 [==============================] - 5s 11ms/step - loss: 4.1723 - accuracy: 0.2129\n",
            "Epoch 25/100\n",
            "484/484 [==============================] - 6s 11ms/step - loss: 4.0547 - accuracy: 0.2281\n",
            "Epoch 26/100\n",
            "484/484 [==============================] - 6s 11ms/step - loss: 3.9447 - accuracy: 0.2528\n",
            "Epoch 27/100\n",
            "484/484 [==============================] - 6s 11ms/step - loss: 3.8324 - accuracy: 0.2701\n",
            "Epoch 28/100\n",
            "484/484 [==============================] - 5s 11ms/step - loss: 3.7303 - accuracy: 0.2905\n",
            "Epoch 29/100\n",
            "484/484 [==============================] - 6s 11ms/step - loss: 3.6311 - accuracy: 0.3086\n",
            "Epoch 30/100\n",
            "484/484 [==============================] - 6s 11ms/step - loss: 3.5126 - accuracy: 0.3344\n",
            "Epoch 31/100\n",
            "484/484 [==============================] - 5s 11ms/step - loss: 3.4276 - accuracy: 0.3536\n",
            "Epoch 32/100\n",
            "484/484 [==============================] - 5s 11ms/step - loss: 3.3248 - accuracy: 0.3778\n",
            "Epoch 33/100\n",
            "484/484 [==============================] - 6s 11ms/step - loss: 3.2215 - accuracy: 0.4014\n",
            "Epoch 34/100\n",
            "484/484 [==============================] - 6s 12ms/step - loss: 3.1236 - accuracy: 0.4259\n",
            "Epoch 35/100\n",
            "484/484 [==============================] - 5s 11ms/step - loss: 3.0370 - accuracy: 0.4442\n",
            "Epoch 36/100\n",
            "484/484 [==============================] - 6s 11ms/step - loss: 2.9544 - accuracy: 0.4654\n",
            "Epoch 37/100\n",
            "484/484 [==============================] - 5s 11ms/step - loss: 2.8670 - accuracy: 0.4876\n",
            "Epoch 38/100\n",
            "484/484 [==============================] - 6s 11ms/step - loss: 2.7767 - accuracy: 0.5072\n",
            "Epoch 39/100\n",
            "484/484 [==============================] - 5s 11ms/step - loss: 2.7095 - accuracy: 0.5248\n",
            "Epoch 40/100\n",
            "484/484 [==============================] - 6s 11ms/step - loss: 2.6276 - accuracy: 0.5393\n",
            "Epoch 41/100\n",
            "484/484 [==============================] - 5s 11ms/step - loss: 2.5703 - accuracy: 0.5566\n",
            "Epoch 42/100\n",
            "484/484 [==============================] - 6s 12ms/step - loss: 2.4944 - accuracy: 0.5739\n",
            "Epoch 43/100\n",
            "484/484 [==============================] - 6s 11ms/step - loss: 2.4249 - accuracy: 0.5915\n",
            "Epoch 44/100\n",
            "484/484 [==============================] - 6s 12ms/step - loss: 2.3559 - accuracy: 0.6008\n",
            "Epoch 45/100\n",
            "484/484 [==============================] - 6s 11ms/step - loss: 2.2828 - accuracy: 0.6229\n",
            "Epoch 46/100\n",
            "484/484 [==============================] - 6s 11ms/step - loss: 2.2454 - accuracy: 0.6281\n",
            "Epoch 47/100\n",
            "484/484 [==============================] - 5s 11ms/step - loss: 2.1859 - accuracy: 0.6381\n",
            "Epoch 48/100\n",
            "484/484 [==============================] - 5s 11ms/step - loss: 2.1453 - accuracy: 0.6498\n",
            "Epoch 49/100\n",
            "484/484 [==============================] - 5s 11ms/step - loss: 2.0847 - accuracy: 0.6619\n",
            "Epoch 50/100\n",
            "484/484 [==============================] - 5s 11ms/step - loss: 2.0505 - accuracy: 0.6688\n",
            "Epoch 51/100\n",
            "484/484 [==============================] - 5s 11ms/step - loss: 1.9995 - accuracy: 0.6797\n",
            "Epoch 52/100\n",
            "484/484 [==============================] - 5s 11ms/step - loss: 1.9466 - accuracy: 0.6901\n",
            "Epoch 53/100\n",
            "484/484 [==============================] - 5s 11ms/step - loss: 1.9107 - accuracy: 0.6969\n",
            "Epoch 54/100\n",
            "484/484 [==============================] - 5s 11ms/step - loss: 1.8823 - accuracy: 0.7039\n",
            "Epoch 55/100\n",
            "484/484 [==============================] - 6s 12ms/step - loss: 1.8192 - accuracy: 0.7170\n",
            "Epoch 56/100\n",
            "484/484 [==============================] - 6s 12ms/step - loss: 1.8096 - accuracy: 0.7187\n",
            "Epoch 57/100\n",
            "484/484 [==============================] - 6s 11ms/step - loss: 1.7598 - accuracy: 0.7275\n",
            "Epoch 58/100\n",
            "484/484 [==============================] - 6s 12ms/step - loss: 1.7290 - accuracy: 0.7322\n",
            "Epoch 59/100\n",
            "484/484 [==============================] - 6s 11ms/step - loss: 1.6934 - accuracy: 0.7386\n",
            "Epoch 60/100\n",
            "484/484 [==============================] - 5s 11ms/step - loss: 1.6801 - accuracy: 0.7400\n",
            "Epoch 61/100\n",
            "484/484 [==============================] - 5s 11ms/step - loss: 1.6499 - accuracy: 0.7463\n",
            "Epoch 62/100\n",
            "484/484 [==============================] - 5s 11ms/step - loss: 1.6102 - accuracy: 0.7528\n",
            "Epoch 63/100\n",
            "484/484 [==============================] - 5s 11ms/step - loss: 1.5817 - accuracy: 0.7625\n",
            "Epoch 64/100\n",
            "484/484 [==============================] - 5s 11ms/step - loss: 1.5672 - accuracy: 0.7630\n",
            "Epoch 65/100\n",
            "484/484 [==============================] - 5s 11ms/step - loss: 1.5324 - accuracy: 0.7705\n",
            "Epoch 66/100\n",
            "484/484 [==============================] - 5s 11ms/step - loss: 1.5088 - accuracy: 0.7706\n",
            "Epoch 67/100\n",
            "484/484 [==============================] - 5s 11ms/step - loss: 1.4858 - accuracy: 0.7724\n",
            "Epoch 68/100\n",
            "484/484 [==============================] - 5s 11ms/step - loss: 1.4743 - accuracy: 0.7767\n",
            "Epoch 69/100\n",
            "484/484 [==============================] - 6s 11ms/step - loss: 1.4493 - accuracy: 0.7805\n",
            "Epoch 70/100\n",
            "484/484 [==============================] - 5s 11ms/step - loss: 1.4358 - accuracy: 0.7833\n",
            "Epoch 71/100\n",
            "484/484 [==============================] - 5s 11ms/step - loss: 1.4356 - accuracy: 0.7831\n",
            "Epoch 72/100\n",
            "484/484 [==============================] - 6s 11ms/step - loss: 1.4120 - accuracy: 0.7893\n",
            "Epoch 73/100\n",
            "484/484 [==============================] - 6s 12ms/step - loss: 1.3672 - accuracy: 0.7925\n",
            "Epoch 74/100\n",
            "484/484 [==============================] - 6s 12ms/step - loss: 1.3605 - accuracy: 0.7971\n",
            "Epoch 75/100\n",
            "484/484 [==============================] - 6s 11ms/step - loss: 1.3575 - accuracy: 0.7972\n",
            "Epoch 76/100\n",
            "484/484 [==============================] - 6s 11ms/step - loss: 1.3473 - accuracy: 0.7985\n",
            "Epoch 77/100\n",
            "484/484 [==============================] - 6s 11ms/step - loss: 1.3128 - accuracy: 0.8018\n",
            "Epoch 78/100\n",
            "484/484 [==============================] - 6s 11ms/step - loss: 1.2991 - accuracy: 0.8051\n",
            "Epoch 79/100\n",
            "484/484 [==============================] - 6s 11ms/step - loss: 1.2854 - accuracy: 0.8061\n",
            "Epoch 80/100\n",
            "484/484 [==============================] - 6s 11ms/step - loss: 1.2761 - accuracy: 0.8060\n",
            "Epoch 81/100\n",
            "484/484 [==============================] - 6s 12ms/step - loss: 1.2732 - accuracy: 0.8057\n",
            "Epoch 82/100\n",
            "484/484 [==============================] - 6s 11ms/step - loss: 1.2738 - accuracy: 0.8037\n",
            "Epoch 83/100\n",
            "484/484 [==============================] - 6s 11ms/step - loss: 1.2389 - accuracy: 0.8128\n",
            "Epoch 84/100\n",
            "484/484 [==============================] - 6s 11ms/step - loss: 1.2252 - accuracy: 0.8155\n",
            "Epoch 85/100\n",
            "484/484 [==============================] - 6s 12ms/step - loss: 1.2222 - accuracy: 0.8111\n",
            "Epoch 86/100\n",
            "484/484 [==============================] - 6s 11ms/step - loss: 1.2538 - accuracy: 0.8089\n",
            "Epoch 87/100\n",
            "484/484 [==============================] - 6s 11ms/step - loss: 1.1921 - accuracy: 0.8160\n",
            "Epoch 88/100\n",
            "484/484 [==============================] - 6s 12ms/step - loss: 1.2105 - accuracy: 0.8138\n",
            "Epoch 89/100\n",
            "484/484 [==============================] - 6s 12ms/step - loss: 1.1822 - accuracy: 0.8183\n",
            "Epoch 90/100\n",
            "484/484 [==============================] - 6s 11ms/step - loss: 1.1782 - accuracy: 0.8188\n",
            "Epoch 91/100\n",
            "484/484 [==============================] - 6s 11ms/step - loss: 1.1601 - accuracy: 0.8213\n",
            "Epoch 92/100\n",
            "484/484 [==============================] - 6s 11ms/step - loss: 1.1476 - accuracy: 0.8252\n",
            "Epoch 93/100\n",
            "484/484 [==============================] - 6s 11ms/step - loss: 1.1705 - accuracy: 0.8200\n",
            "Epoch 94/100\n",
            "484/484 [==============================] - 5s 11ms/step - loss: 1.1500 - accuracy: 0.8228\n",
            "Epoch 95/100\n",
            "484/484 [==============================] - 6s 11ms/step - loss: 1.1416 - accuracy: 0.8204\n",
            "Epoch 96/100\n",
            "484/484 [==============================] - 5s 11ms/step - loss: 1.1544 - accuracy: 0.8185\n",
            "Epoch 97/100\n",
            "484/484 [==============================] - 5s 11ms/step - loss: 1.1313 - accuracy: 0.8237\n",
            "Epoch 98/100\n",
            "484/484 [==============================] - 5s 11ms/step - loss: 1.1042 - accuracy: 0.8271\n",
            "Epoch 99/100\n",
            "484/484 [==============================] - 5s 11ms/step - loss: 1.1088 - accuracy: 0.8241\n",
            "Epoch 100/100\n",
            "484/484 [==============================] - 6s 11ms/step - loss: 1.1051 - accuracy: 0.8265\n"
          ],
          "name": "stdout"
        }
      ]
    },
    {
      "cell_type": "code",
      "metadata": {
        "colab_type": "code",
        "id": "1fXTEO3GJ282",
        "colab": {
          "base_uri": "https://localhost:8080/",
          "height": 545
        },
        "outputId": "aac0418c-dbcc-44fc-b065-13788cd0afce"
      },
      "source": [
        "import matplotlib.pyplot as plt\n",
        "acc = history.history['accuracy']\n",
        "loss = history.history['loss']\n",
        "\n",
        "epochs = range(len(acc))\n",
        "\n",
        "plt.plot(epochs, acc, 'b', label='Training accuracy')\n",
        "plt.title('Training accuracy')\n",
        "\n",
        "plt.figure()\n",
        "\n",
        "plt.plot(epochs, loss, 'b', label='Training Loss')\n",
        "plt.title('Training loss')\n",
        "plt.legend()\n",
        "\n",
        "plt.show()"
      ],
      "execution_count": null,
      "outputs": [
        {
          "output_type": "display_data",
          "data": {
            "image/png": "[encoded data removed]",
            "text/plain": [
              "<Figure size 432x288 with 1 Axes>"
            ]
          },
          "metadata": {
            "tags": [],
            "needs_background": "light"
          }
        },
        {
          "output_type": "display_data",
          "data": {
            "image/png": "[encoded data removed]",
            "text/plain": [
              "<Figure size 432x288 with 1 Axes>"
            ]
          },
          "metadata": {
            "tags": [],
            "needs_background": "light"
          }
        }
      ]
    },
    {
      "cell_type": "code",
      "metadata": {
        "colab_type": "code",
        "id": "6Vc6PHgxa6Hm",
        "colab": {
          "base_uri": "https://localhost:8080/",
          "height": 105
        },
        "outputId": "21d90d32-7810-4cbe-8ae5-dcd68c0ac368"
      },
      "source": [
        "seed_text = \"Help me Obi Wan Kenobi, you're my only hope\"\n",
        "next_words = 100\n",
        "  \n",
        "for _ in range(next_words):\n",
        "\ttoken_list = tokenizer.texts_to_sequences([seed_text])[0]\n",
        "\ttoken_list = pad_sequences([token_list], maxlen=max_sequence_len-1, padding='pre')\n",
        "\tpredicted = model.predict_classes(token_list, verbose=0)\n",
        "\toutput_word = \"\"\n",
        "\tfor word, index in tokenizer.word_index.items():\n",
        "\t\tif index == predicted:\n",
        "\t\t\toutput_word = word\n",
        "\t\t\tbreak\n",
        "\tseed_text += \" \" + output_word\n",
        "print(seed_text)"
      ],
      "execution_count": null,
      "outputs": [
        {
          "output_type": "stream",
          "text": [
            "WARNING:tensorflow:From <ipython-input-6-622d307fa19a>:7: Sequential.predict_classes (from tensorflow.python.keras.engine.sequential) is deprecated and will be removed after 2021-01-01.\n",
            "Instructions for updating:\n",
            "Please use instead:* `np.argmax(model.predict(x), axis=-1)`,   if your model does multi-class classification   (e.g. if it uses a `softmax` last-layer activation).* `(model.predict(x) > 0.5).astype(\"int32\")`,   if your model does binary classification   (e.g. if it uses a `sigmoid` last-layer activation).\n",
            "Help me Obi Wan Kenobi, you're my only hope torments me of cross dead sheds ' live releasing decays told in rolling torn decrease quite gone on weeds state new new dead rare lies grow ill sun of thee ere it ' live dearer dearer pain be lie to thine to me not foes cross men lies prove thee ' hath die so express'd pride ' alone forth done give thee so dumb face knows well bold well new new hath hate ' hath write but lie to me not to usest alone young of pleasure thee alone forth foes cross dead pride go rare well rare due of\n"
          ],
          "name": "stdout"
        }
      ]
    }
  ]
}